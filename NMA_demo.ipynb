{
 "cells": [
  {
   "cell_type": "markdown",
   "id": "c3b15539",
   "metadata": {},
   "source": [
    "### Scope\n",
    "This notebook utilizes our Bayesian NMA implementation (MetaRank) for computing ATEs using the Senn 2013 dataset. \n",
    "<br>\n",
    "We compare our results with R's `netmeta` package that implements a Frequentist Random Effects NMA model."
   ]
  },
  {
   "cell_type": "code",
   "execution_count": 1,
   "id": "fa6c3e22",
   "metadata": {},
   "outputs": [],
   "source": [
    "import pandas as pd"
   ]
  },
  {
   "cell_type": "code",
   "execution_count": 2,
   "id": "e7ea626a",
   "metadata": {},
   "outputs": [],
   "source": [
    "data = pd.read_csv('senn.csv')\n",
    "data = data.rename({\"treat1.long\": \"treatment\", \"treat2.long\":\"control\"}, axis = 1)"
   ]
  },
  {
   "cell_type": "code",
   "execution_count": 3,
   "id": "61735e8e",
   "metadata": {},
   "outputs": [
    {
     "data": {
      "text/html": [
       "<div>\n",
       "<style scoped>\n",
       "    .dataframe tbody tr th:only-of-type {\n",
       "        vertical-align: middle;\n",
       "    }\n",
       "\n",
       "    .dataframe tbody tr th {\n",
       "        vertical-align: top;\n",
       "    }\n",
       "\n",
       "    .dataframe thead th {\n",
       "        text-align: right;\n",
       "    }\n",
       "</style>\n",
       "<table border=\"1\" class=\"dataframe\">\n",
       "  <thead>\n",
       "    <tr style=\"text-align: right;\">\n",
       "      <th></th>\n",
       "      <th>TE</th>\n",
       "      <th>seTE</th>\n",
       "      <th>treatment</th>\n",
       "      <th>control</th>\n",
       "      <th>treat1</th>\n",
       "      <th>treat2</th>\n",
       "      <th>studlab</th>\n",
       "    </tr>\n",
       "  </thead>\n",
       "  <tbody>\n",
       "    <tr>\n",
       "      <th>0</th>\n",
       "      <td>-1.90</td>\n",
       "      <td>0.1414</td>\n",
       "      <td>Metformin</td>\n",
       "      <td>Placebo</td>\n",
       "      <td>metf</td>\n",
       "      <td>plac</td>\n",
       "      <td>DeFronzo1995</td>\n",
       "    </tr>\n",
       "    <tr>\n",
       "      <th>1</th>\n",
       "      <td>-0.82</td>\n",
       "      <td>0.0992</td>\n",
       "      <td>Metformin</td>\n",
       "      <td>Placebo</td>\n",
       "      <td>metf</td>\n",
       "      <td>plac</td>\n",
       "      <td>Lewin2007</td>\n",
       "    </tr>\n",
       "    <tr>\n",
       "      <th>2</th>\n",
       "      <td>-0.20</td>\n",
       "      <td>0.3579</td>\n",
       "      <td>Metformin</td>\n",
       "      <td>Acarbose</td>\n",
       "      <td>metf</td>\n",
       "      <td>acar</td>\n",
       "      <td>Willms1999</td>\n",
       "    </tr>\n",
       "    <tr>\n",
       "      <th>3</th>\n",
       "      <td>-1.34</td>\n",
       "      <td>0.1435</td>\n",
       "      <td>Rosiglitazone</td>\n",
       "      <td>Placebo</td>\n",
       "      <td>rosi</td>\n",
       "      <td>plac</td>\n",
       "      <td>Davidson2007</td>\n",
       "    </tr>\n",
       "    <tr>\n",
       "      <th>4</th>\n",
       "      <td>-1.10</td>\n",
       "      <td>0.1141</td>\n",
       "      <td>Rosiglitazone</td>\n",
       "      <td>Placebo</td>\n",
       "      <td>rosi</td>\n",
       "      <td>plac</td>\n",
       "      <td>Wolffenbuttel1999</td>\n",
       "    </tr>\n",
       "  </tbody>\n",
       "</table>\n",
       "</div>"
      ],
      "text/plain": [
       "     TE    seTE      treatment   control treat1 treat2            studlab\n",
       "0 -1.90  0.1414      Metformin   Placebo   metf   plac       DeFronzo1995\n",
       "1 -0.82  0.0992      Metformin   Placebo   metf   plac          Lewin2007\n",
       "2 -0.20  0.3579      Metformin  Acarbose   metf   acar         Willms1999\n",
       "3 -1.34  0.1435  Rosiglitazone   Placebo   rosi   plac       Davidson2007\n",
       "4 -1.10  0.1141  Rosiglitazone   Placebo   rosi   plac  Wolffenbuttel1999"
      ]
     },
     "execution_count": 3,
     "metadata": {},
     "output_type": "execute_result"
    }
   ],
   "source": [
    "data.head()"
   ]
  },
  {
   "cell_type": "code",
   "execution_count": 4,
   "id": "8d6836e4",
   "metadata": {},
   "outputs": [],
   "source": [
    "from nma import MetaRank\n",
    "meta = MetaRank(baseline_tx='Placebo', \n",
    "                trace_samples=10000, \n",
    "                burn_ratio=0.2)"
   ]
  },
  {
   "cell_type": "code",
   "execution_count": 5,
   "id": "371ed780",
   "metadata": {},
   "outputs": [
    {
     "name": "stderr",
     "output_type": "stream",
     "text": [
      "Multiprocess sampling (4 chains in 4 jobs)\n",
      "NUTS: [ate_std, tau, mur, mu0]\n"
     ]
    },
    {
     "data": {
      "text/html": [
       "\n",
       "    <div>\n",
       "        <style>\n",
       "            /* Turns off some styling */\n",
       "            progress {\n",
       "                /* gets rid of default border in Firefox and Opera. */\n",
       "                border: none;\n",
       "                /* Needs to be in here for Safari polyfill so background images work as expected. */\n",
       "                background-size: auto;\n",
       "            }\n",
       "            .progress-bar-interrupted, .progress-bar-interrupted::-webkit-progress-bar {\n",
       "                background: #F44336;\n",
       "            }\n",
       "        </style>\n",
       "      <progress value='80000' class='' max='80000' style='width:300px; height:20px; vertical-align: middle;'></progress>\n",
       "      100.00% [80000/80000 06:01<00:00 Sampling 4 chains, 0 divergences]\n",
       "    </div>\n",
       "    "
      ],
      "text/plain": [
       "<IPython.core.display.HTML object>"
      ]
     },
     "metadata": {},
     "output_type": "display_data"
    },
    {
     "name": "stderr",
     "output_type": "stream",
     "text": [
      "Sampling 4 chains for 10_000 tune and 10_000 draw iterations (40_000 + 40_000 draws total) took 375 seconds.\n",
      "/Users/ag25710/miniconda3/envs/bcaus_nma/lib/python3.7/site-packages/arviz/data/io_pymc3.py:92: FutureWarning: Using `from_pymc3` without the model will be deprecated in a future release. Not using the model will return less accurate and less useful results. Make sure you use the model argument or call from_pymc3 within a model context.\n",
      "  FutureWarning,\n"
     ]
    },
    {
     "data": {
      "text/html": [
       "\n",
       "    <div>\n",
       "        <style>\n",
       "            /* Turns off some styling */\n",
       "            progress {\n",
       "                /* gets rid of default border in Firefox and Opera. */\n",
       "                border: none;\n",
       "                /* Needs to be in here for Safari polyfill so background images work as expected. */\n",
       "                background-size: auto;\n",
       "            }\n",
       "            .progress-bar-interrupted, .progress-bar-interrupted::-webkit-progress-bar {\n",
       "                background: #F44336;\n",
       "            }\n",
       "        </style>\n",
       "      <progress value='32000' class='' max='32000' style='width:300px; height:20px; vertical-align: middle;'></progress>\n",
       "      100.00% [32000/32000 00:01<00:00]\n",
       "    </div>\n",
       "    "
      ],
      "text/plain": [
       "<IPython.core.display.HTML object>"
      ]
     },
     "metadata": {},
     "output_type": "display_data"
    },
    {
     "name": "stderr",
     "output_type": "stream",
     "text": [
      "/Users/ag25710/miniconda3/envs/bcaus_nma/lib/python3.7/site-packages/arviz/data/io_pymc3.py:92: FutureWarning: Using `from_pymc3` without the model will be deprecated in a future release. Not using the model will return less accurate and less useful results. Make sure you use the model argument or call from_pymc3 within a model context.\n",
      "  FutureWarning,\n"
     ]
    }
   ],
   "source": [
    "scores = meta.fit(data).predict()"
   ]
  },
  {
   "cell_type": "code",
   "execution_count": 7,
   "id": "46cc590d",
   "metadata": {},
   "outputs": [
    {
     "data": {
      "text/html": [
       "<div>\n",
       "<style scoped>\n",
       "    .dataframe tbody tr th:only-of-type {\n",
       "        vertical-align: middle;\n",
       "    }\n",
       "\n",
       "    .dataframe tbody tr th {\n",
       "        vertical-align: top;\n",
       "    }\n",
       "\n",
       "    .dataframe thead th {\n",
       "        text-align: right;\n",
       "    }\n",
       "</style>\n",
       "<table border=\"1\" class=\"dataframe\">\n",
       "  <thead>\n",
       "    <tr style=\"text-align: right;\">\n",
       "      <th></th>\n",
       "      <th>treatment</th>\n",
       "      <th>ate</th>\n",
       "      <th>ate_lb</th>\n",
       "      <th>ate_ub</th>\n",
       "      <th>sucra</th>\n",
       "    </tr>\n",
       "  </thead>\n",
       "  <tbody>\n",
       "    <tr>\n",
       "      <th>0</th>\n",
       "      <td>Rosiglitazone</td>\n",
       "      <td>-1.236</td>\n",
       "      <td>-1.483</td>\n",
       "      <td>-0.979</td>\n",
       "      <td>0.893142</td>\n",
       "    </tr>\n",
       "    <tr>\n",
       "      <th>1</th>\n",
       "      <td>Metformin</td>\n",
       "      <td>-1.130</td>\n",
       "      <td>-1.429</td>\n",
       "      <td>-0.838</td>\n",
       "      <td>0.783382</td>\n",
       "    </tr>\n",
       "    <tr>\n",
       "      <th>2</th>\n",
       "      <td>Pioglitazone</td>\n",
       "      <td>-1.130</td>\n",
       "      <td>-1.556</td>\n",
       "      <td>-0.697</td>\n",
       "      <td>0.773188</td>\n",
       "    </tr>\n",
       "    <tr>\n",
       "      <th>3</th>\n",
       "      <td>Miglitol</td>\n",
       "      <td>-0.949</td>\n",
       "      <td>-1.400</td>\n",
       "      <td>-0.504</td>\n",
       "      <td>0.610340</td>\n",
       "    </tr>\n",
       "    <tr>\n",
       "      <th>4</th>\n",
       "      <td>Acarbose</td>\n",
       "      <td>-0.859</td>\n",
       "      <td>-1.298</td>\n",
       "      <td>-0.427</td>\n",
       "      <td>0.528358</td>\n",
       "    </tr>\n",
       "    <tr>\n",
       "      <th>5</th>\n",
       "      <td>Benfluorex</td>\n",
       "      <td>-0.733</td>\n",
       "      <td>-1.292</td>\n",
       "      <td>-0.178</td>\n",
       "      <td>0.435337</td>\n",
       "    </tr>\n",
       "    <tr>\n",
       "      <th>6</th>\n",
       "      <td>Vildagliptin</td>\n",
       "      <td>-0.696</td>\n",
       "      <td>-1.400</td>\n",
       "      <td>0.004</td>\n",
       "      <td>0.416500</td>\n",
       "    </tr>\n",
       "    <tr>\n",
       "      <th>7</th>\n",
       "      <td>Sitagliptin</td>\n",
       "      <td>-0.570</td>\n",
       "      <td>-1.275</td>\n",
       "      <td>0.114</td>\n",
       "      <td>0.330059</td>\n",
       "    </tr>\n",
       "    <tr>\n",
       "      <th>8</th>\n",
       "      <td>Sulfonylurea</td>\n",
       "      <td>-0.426</td>\n",
       "      <td>-0.893</td>\n",
       "      <td>0.041</td>\n",
       "      <td>0.214066</td>\n",
       "    </tr>\n",
       "    <tr>\n",
       "      <th>9</th>\n",
       "      <td>Placebo</td>\n",
       "      <td>0.000</td>\n",
       "      <td>-0.018</td>\n",
       "      <td>0.019</td>\n",
       "      <td>0.015628</td>\n",
       "    </tr>\n",
       "  </tbody>\n",
       "</table>\n",
       "</div>"
      ],
      "text/plain": [
       "       treatment    ate  ate_lb  ate_ub     sucra\n",
       "0  Rosiglitazone -1.236  -1.483  -0.979  0.893142\n",
       "1      Metformin -1.130  -1.429  -0.838  0.783382\n",
       "2   Pioglitazone -1.130  -1.556  -0.697  0.773188\n",
       "3       Miglitol -0.949  -1.400  -0.504  0.610340\n",
       "4       Acarbose -0.859  -1.298  -0.427  0.528358\n",
       "5     Benfluorex -0.733  -1.292  -0.178  0.435337\n",
       "6   Vildagliptin -0.696  -1.400   0.004  0.416500\n",
       "7    Sitagliptin -0.570  -1.275   0.114  0.330059\n",
       "8   Sulfonylurea -0.426  -0.893   0.041  0.214066\n",
       "9        Placebo  0.000  -0.018   0.019  0.015628"
      ]
     },
     "execution_count": 7,
     "metadata": {},
     "output_type": "execute_result"
    }
   ],
   "source": [
    "scores.sort_values('sucra', ascending=False)"
   ]
  },
  {
   "cell_type": "markdown",
   "id": "46c2252d",
   "metadata": {},
   "source": [
    "### Comparison with R's NMA (frequentist)\n",
    "https://rdrr.io/cran/netmeta/man/Senn2013.html\n",
    "<br>\n",
    "Random effects model\n",
    "<br>\n",
    "Treatment estimate (sm = '', comparison: other treatments vs 'Placebo'):\n",
    "\n",
    "treatment | ATE | 95%-CI\n",
    "-----|-----|----- \n",
    "Rosiglitazone| -1.2335| [-1.4839; -0.9830]|\n",
    "Metformin|     -1.1268| [-1.4291; -0.8244]|\n",
    "Pioglitazone|  -1.1291| [-1.5596; -0.6986]|\n",
    "Miglitol|      -0.9497| [-1.4040; -0.4955]|\n",
    "Acarbose|      -0.8418| [-1.3236; -0.3600]|\n",
    "Benfluorex|    -0.7311| [-1.2918; -0.1705]|\n",
    "Vildagliptin|  -0.7000| [-1.3927; -0.0073]|\n",
    "Sitagliptin|   -0.5700| [-1.2640;  0.1240]|\n",
    "Sulfonylurea|  -0.4166| [-0.8887;  0.0556]|\n",
    "Placebo|             .|                  .|"
   ]
  }
 ],
 "metadata": {
  "kernelspec": {
   "display_name": "Python 3",
   "language": "python",
   "name": "python3"
  },
  "language_info": {
   "codemirror_mode": {
    "name": "ipython",
    "version": 3
   },
   "file_extension": ".py",
   "mimetype": "text/x-python",
   "name": "python",
   "nbconvert_exporter": "python",
   "pygments_lexer": "ipython3",
   "version": "3.7.10"
  }
 },
 "nbformat": 4,
 "nbformat_minor": 5
}
